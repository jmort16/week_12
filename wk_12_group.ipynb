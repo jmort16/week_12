{
 "cells": [
  {
   "cell_type": "markdown",
   "id": "bc7c1cc1",
   "metadata": {},
   "source": [
    "# Week 12 Group Activity"
   ]
  },
  {
   "cell_type": "markdown",
   "id": "a007ead7",
   "metadata": {},
   "source": [
    "##### 1. Write a lambda function to rearrange positive and negative numbers in a given list\n",
    "\n",
    "#### Sample output:\n",
    "#### original_list = [-1,2,-3,4,-5,6,-7,8,-9,10,-11,12]\n",
    "#### resulting_list = [2,4,6,8,10,12,-11,-9,-7,-5,-3,-1]"
   ]
  },
  {
   "cell_type": "code",
   "execution_count": null,
   "id": "017d5cd1",
   "metadata": {},
   "outputs": [],
   "source": [
    "x = lambda my_list : my_list.sort()\n",
    "\n",
    "print()"
   ]
  },
  {
   "cell_type": "markdown",
   "id": "4e2ac166",
   "metadata": {},
   "source": [
    "##### 2. Create a new dataframe using week_11/temperatures/temperature.csv file from last class. It should have the datetime column and one of the cities. Create a new boolean column called is_freezing that indicates if the temperature is at or below freezing. Use a lambda to create this column. Is there a better way to do this than with a lambda?\n"
   ]
  },
  {
   "cell_type": "code",
   "execution_count": null,
   "id": "8128dfc4",
   "metadata": {},
   "outputs": [],
   "source": []
  },
  {
   "cell_type": "markdown",
   "id": "1a4f74ae",
   "metadata": {},
   "source": [
    "##### 3. BONUS: if you still have time, try to do a pivot of the data in question 2 so you have the hourly data for all the cities and a flag for if it's freezing."
   ]
  },
  {
   "cell_type": "code",
   "execution_count": null,
   "id": "47747038",
   "metadata": {},
   "outputs": [],
   "source": []
  }
 ],
 "metadata": {
  "kernelspec": {
   "display_name": "Python 3 (ipykernel)",
   "language": "python",
   "name": "python3"
  },
  "language_info": {
   "codemirror_mode": {
    "name": "ipython",
    "version": 3
   },
   "file_extension": ".py",
   "mimetype": "text/x-python",
   "name": "python",
   "nbconvert_exporter": "python",
   "pygments_lexer": "ipython3",
   "version": "3.9.7"
  }
 },
 "nbformat": 4,
 "nbformat_minor": 5
}
