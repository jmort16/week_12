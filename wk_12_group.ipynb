{
 "cells": [
  {
   "cell_type": "markdown",
   "id": "11976906",
   "metadata": {},
   "source": [
    "# Week 12 Group Activity"
   ]
  },
  {
   "cell_type": "code",
   "execution_count": 2,
   "id": "a73aa76b",
   "metadata": {},
   "outputs": [],
   "source": [
    "import pandas as pd"
   ]
  },
  {
   "cell_type": "markdown",
   "id": "c12deb1a",
   "metadata": {},
   "source": [
    "##### 1. Write a lambda function to rearrange positive and negative numbers in a given list\n",
    "\n",
    "#### Sample output:\n",
    "#### original_list = [-1,2,-3,4,-5,6,-7,8,-9,10,-11,12]\n",
    "#### resulting_list = [2,4,6,8,10,12,-11,-9,-7,-5,-3,-1]"
   ]
  },
  {
   "cell_type": "code",
   "execution_count": 3,
   "id": "7ff13666",
   "metadata": {},
   "outputs": [
    {
     "name": "stdout",
     "output_type": "stream",
     "text": [
      "\n"
     ]
    }
   ],
   "source": [
    "x = lambda my_list : my_list.sort()\n",
    "\n",
    "print()"
   ]
  },
  {
   "cell_type": "markdown",
   "id": "787e9879",
   "metadata": {},
   "source": [
    "##### 2. Create a new dataframe using week_11/temperatures/temperature.csv file from last class. It should have the datetime column and one of the cities. Create a new boolean column called is_freezing that indicates if the temperature is at or below freezing. Use a lambda to create this column. Is there a better way to do this than with a lambda?\n"
   ]
  },
  {
   "cell_type": "code",
   "execution_count": 20,
   "id": "b0a24a6c",
   "metadata": {},
   "outputs": [
    {
     "data": {
      "text/html": [
       "<div>\n",
       "<style scoped>\n",
       "    .dataframe tbody tr th:only-of-type {\n",
       "        vertical-align: middle;\n",
       "    }\n",
       "\n",
       "    .dataframe tbody tr th {\n",
       "        vertical-align: top;\n",
       "    }\n",
       "\n",
       "    .dataframe thead th {\n",
       "        text-align: right;\n",
       "    }\n",
       "</style>\n",
       "<table border=\"1\" class=\"dataframe\">\n",
       "  <thead>\n",
       "    <tr style=\"text-align: right;\">\n",
       "      <th></th>\n",
       "      <th>Denver</th>\n",
       "    </tr>\n",
       "    <tr>\n",
       "      <th>datetime</th>\n",
       "      <th></th>\n",
       "    </tr>\n",
       "  </thead>\n",
       "  <tbody>\n",
       "    <tr>\n",
       "      <th>2012-10-01 12:00:00</th>\n",
       "      <td>NaN</td>\n",
       "    </tr>\n",
       "    <tr>\n",
       "      <th>2012-10-01 13:00:00</th>\n",
       "      <td>284.610000</td>\n",
       "    </tr>\n",
       "    <tr>\n",
       "      <th>2012-10-01 14:00:00</th>\n",
       "      <td>284.607305</td>\n",
       "    </tr>\n",
       "    <tr>\n",
       "      <th>2012-10-01 15:00:00</th>\n",
       "      <td>284.599918</td>\n",
       "    </tr>\n",
       "    <tr>\n",
       "      <th>2012-10-01 16:00:00</th>\n",
       "      <td>284.592530</td>\n",
       "    </tr>\n",
       "  </tbody>\n",
       "</table>\n",
       "</div>"
      ],
      "text/plain": [
       "                         Denver\n",
       "datetime                       \n",
       "2012-10-01 12:00:00         NaN\n",
       "2012-10-01 13:00:00  284.610000\n",
       "2012-10-01 14:00:00  284.607305\n",
       "2012-10-01 15:00:00  284.599918\n",
       "2012-10-01 16:00:00  284.592530"
      ]
     },
     "execution_count": 20,
     "metadata": {},
     "output_type": "execute_result"
    }
   ],
   "source": [
    "temp = pd.read_csv('temperature.csv', index_col='datetime', parse_dates=True)\n",
    "temp_denver = temp['Denver']\n",
    "temp_denver.columns=['Denver']\n",
    "\n",
    "denver_df=pd.DataFrame(temp_denver)\n",
    "denver_df.head()"
   ]
  },
  {
   "cell_type": "code",
   "execution_count": 21,
   "id": "903fcce1",
   "metadata": {},
   "outputs": [
    {
     "data": {
      "text/plain": [
       "<function __main__.<lambda>(x)>"
      ]
     },
     "execution_count": 21,
     "metadata": {},
     "output_type": "execute_result"
    }
   ],
   "source": [
    "lambda x : x <= 273.15\n",
    "\n",
    "#denver_df['is_freezing']="
   ]
  },
  {
   "cell_type": "markdown",
   "id": "a84b9c2b",
   "metadata": {},
   "source": [
    "##### 3. BONUS: if you still have time, try to do a pivot of the data in question 2 so you have the hourly data for all the cities and a flag for if it's freezing."
   ]
  },
  {
   "cell_type": "code",
   "execution_count": null,
   "id": "7e62a93e",
   "metadata": {},
   "outputs": [],
   "source": []
  }
 ],
 "metadata": {
  "kernelspec": {
   "display_name": "Python 3 (ipykernel)",
   "language": "python",
   "name": "python3"
  },
  "language_info": {
   "codemirror_mode": {
    "name": "ipython",
    "version": 3
   },
   "file_extension": ".py",
   "mimetype": "text/x-python",
   "name": "python",
   "nbconvert_exporter": "python",
   "pygments_lexer": "ipython3",
   "version": "3.9.7"
  }
 },
 "nbformat": 4,
 "nbformat_minor": 5
}
