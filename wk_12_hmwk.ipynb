{
 "cells": [
  {
   "cell_type": "markdown",
   "id": "4aba3666",
   "metadata": {},
   "source": [
    "# Week 12 Homework"
   ]
  },
  {
   "cell_type": "markdown",
   "id": "6be1cdd8",
   "metadata": {},
   "source": [
    "##### 1.\tIn 250-500 words, write a thorough discussion of when to use ML and when not to. Do NOT go over the 500-word limit. It is essential to express this concisely. This should be informed by the Machine Learning for Business DataCamp course. \n"
   ]
  },
  {
   "cell_type": "code",
   "execution_count": null,
   "id": "bfa0a765",
   "metadata": {},
   "outputs": [],
   "source": []
  },
  {
   "cell_type": "markdown",
   "id": "26fb288e",
   "metadata": {},
   "source": [
    "##### 2.\tPerform pre-processing on the Lending Club dataset from class. Clearly use markdown to indicate each pre-processing step you are using. Note: you should use at least three different techniques. \n"
   ]
  },
  {
   "cell_type": "code",
   "execution_count": null,
   "id": "c28a80c3",
   "metadata": {},
   "outputs": [],
   "source": []
  },
  {
   "cell_type": "markdown",
   "id": "18ee461f",
   "metadata": {},
   "source": [
    "##### 3.\tCreate a correlation matrix with a heatmap for the features in the Lending Club dataset. Use markdown to write about your takeaways in under 250 words."
   ]
  },
  {
   "cell_type": "code",
   "execution_count": null,
   "id": "fbd40eb3",
   "metadata": {},
   "outputs": [],
   "source": []
  },
  {
   "cell_type": "markdown",
   "id": "00ce71d0",
   "metadata": {},
   "source": [
    "##### 4.\tCreate a histogram showing the frequency of loan_amounts. Describe what you see. Pay special attention to bin sizes, and clearly describe how you chose your bin sizes. "
   ]
  },
  {
   "cell_type": "code",
   "execution_count": null,
   "id": "3bfff2c0",
   "metadata": {},
   "outputs": [],
   "source": []
  },
  {
   "cell_type": "markdown",
   "id": "a85c6014",
   "metadata": {},
   "source": [
    "##### 5.\tCreate a new column called region that uses a lambda and shows which part of the US someone lives in, split up into Pacific, Plains, Midwest, Northeast, and South. Consider having your lambda call a function. "
   ]
  },
  {
   "cell_type": "code",
   "execution_count": null,
   "id": "80e5e07f",
   "metadata": {},
   "outputs": [],
   "source": []
  },
  {
   "cell_type": "markdown",
   "id": "ffb7b5dd",
   "metadata": {},
   "source": [
    "##### a.\tIs there a better way to do this than with a lambda? "
   ]
  },
  {
   "cell_type": "code",
   "execution_count": null,
   "id": "6a93e04b",
   "metadata": {},
   "outputs": [],
   "source": []
  },
  {
   "cell_type": "markdown",
   "id": "a3f9dec0",
   "metadata": {},
   "source": [
    "##### b.\tEither use two different lambdas or a lambda and a different technique and see which one is more performant. Explain your findings in the markdown. "
   ]
  },
  {
   "cell_type": "code",
   "execution_count": null,
   "id": "e8803600",
   "metadata": {},
   "outputs": [],
   "source": []
  },
  {
   "cell_type": "markdown",
   "id": "b2720ce7",
   "metadata": {},
   "source": [
    "##### 6.\tCreate subplot histograms to show if loan_amounts differ by region. Summarize your findings."
   ]
  },
  {
   "cell_type": "code",
   "execution_count": null,
   "id": "d27f43b7",
   "metadata": {},
   "outputs": [],
   "source": []
  },
  {
   "cell_type": "markdown",
   "id": "8734f51c",
   "metadata": {},
   "source": [
    "##### 7.\tThink of some questions you want to ask our guests next week. You can ask them anything, just make sure its thoughtful. "
   ]
  },
  {
   "cell_type": "code",
   "execution_count": null,
   "id": "81d60ab0",
   "metadata": {},
   "outputs": [],
   "source": []
  }
 ],
 "metadata": {
  "kernelspec": {
   "display_name": "Python 3 (ipykernel)",
   "language": "python",
   "name": "python3"
  },
  "language_info": {
   "codemirror_mode": {
    "name": "ipython",
    "version": 3
   },
   "file_extension": ".py",
   "mimetype": "text/x-python",
   "name": "python",
   "nbconvert_exporter": "python",
   "pygments_lexer": "ipython3",
   "version": "3.9.7"
  }
 },
 "nbformat": 4,
 "nbformat_minor": 5
}
